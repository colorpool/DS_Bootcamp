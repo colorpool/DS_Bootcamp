{
 "cells": [
  {
   "cell_type": "markdown",
   "source": [
    "##### LOGISTIC REGRESSION\n",
    "\n",
    "1. Try different thresholds for computing predictions. By default it is 0.5. Use predict_proba function to compute probabilities and then try custom thresholds and see their impact on Accuracy, Precision and Recall\n",
    "\n",
    "2. Do the same analysis for other columns\n",
    "\n",
    "3. Fit a Logistic Regression Model on all features. Remember to preprocess data(eg. normalization and one hot encoding)\n",
    "\n",
    "4. Plot ROC Curves for each model\n",
    "\n",
    "\n",
    "##### CLUSTERING\n",
    "1. Repeat the above exercise for different values of k\n",
    " - How do the inertia and silhouette scores change?\n",
    " - What if you don't scale your features?\n",
    " - Is there a 'right' k? Why or why not?\n",
    "\n",
    "\n",
    "2. Repeat the following exercise for food nutrients dataset"
   ],
   "metadata": {
    "collapsed": false
   }
  },
  {
   "cell_type": "code",
   "execution_count": null,
   "outputs": [],
   "source": [],
   "metadata": {
    "collapsed": false
   }
  }
 ],
 "metadata": {
  "kernelspec": {
   "display_name": "Python 3",
   "language": "python",
   "name": "python3"
  },
  "language_info": {
   "codemirror_mode": {
    "name": "ipython",
    "version": 2
   },
   "file_extension": ".py",
   "mimetype": "text/x-python",
   "name": "python",
   "nbconvert_exporter": "python",
   "pygments_lexer": "ipython2",
   "version": "2.7.6"
  }
 },
 "nbformat": 4,
 "nbformat_minor": 0
}
