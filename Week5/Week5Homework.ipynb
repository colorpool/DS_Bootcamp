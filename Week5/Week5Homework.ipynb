{
 "cells": [
  {
   "cell_type": "markdown",
   "source": [
    "## Practice Questions\n",
    "1. How do you assess the statistical significance of an insight?\n",
    "    Statistical significance is assessed using a hypothesis test. An insight's significance is determined by calculating a p-value, which is the probability of observing the data or something more extreme given that the null hypothesis is true. If this p-value is less than a predetermined threshold (often 0.05), the result is deemed statistically significant, indicating that the observed effect is unlikely to be due to chance alone.\n",
    "\n",
    "2. What is the Central Limit Theorem? Explain it. Why is it important?\n",
    "    The Central Limit Theorem states that the sampling distribution of the sample means approaches a normal distribution, regardless of the shape of the population distribution, as the sample size becomes larger, provided the sample size is sufficiently large (usually n > 30 is considered adequate). This is important because it allows us to make inferences about the population mean using the sample mean, even when the population distribution is not normal, and it is the foundation for many statistical methods, including confidence intervals and hypothesis tests.\n",
    "3. What is the statistical power?\n",
    "    Statistical power is the probability that a test will correctly reject a false null hypothesis (i.e., it will detect an effect when there is one). It is influenced by the effect size, sample size, significance level, and the variability of the data. High statistical power means there is a lower risk of making a Type II error (failing to reject a false null hypothesis).\n",
    "4. How do you control for biases?\n",
    "    Controlling for biases involves a variety of techniques depending on the type of bias. This can include careful study design, randomization, blinding, using control groups, and statistical control such as regression analysis where you can adjust for variables that might be causing bias.\n",
    "5. What are confounding variables?\n",
    "    Confounding variables are external variables that can affect the outcome of an experiment but are not the variables being studied. They can provide an alternative explanation for the observed association and can lead to a misleading conclusion if not accounted for properly.\n",
    "6. What is A/B testing?\n",
    "    A/B testing is a randomized control experiment to compare two versions (A and B) of a single variable to determine which version is more effective. It's commonly used in web development, marketing, and product design to test changes in webpages, user interfaces, or advertisements.\n",
    "7. What are confidence intervals?\n",
    "    Confidence intervals are a range of values, derived from the sample data, that are believed to contain the population parameter (like the mean or proportion) with a certain level of confidence (often 95%). It provides an estimate of the uncertainty around the main measurement. For example, a 95% confidence interval suggests that if the same population is sampled 100 times, the interval would include the true population parameter in 95 of those samples."
   ],
   "metadata": {
    "collapsed": false
   }
  },
  {
   "cell_type": "code",
   "execution_count": null,
   "outputs": [],
   "source": [],
   "metadata": {
    "collapsed": false
   }
  }
 ],
 "metadata": {
  "kernelspec": {
   "display_name": "Python 3",
   "language": "python",
   "name": "python3"
  },
  "language_info": {
   "codemirror_mode": {
    "name": "ipython",
    "version": 2
   },
   "file_extension": ".py",
   "mimetype": "text/x-python",
   "name": "python",
   "nbconvert_exporter": "python",
   "pygments_lexer": "ipython2",
   "version": "2.7.6"
  }
 },
 "nbformat": 4,
 "nbformat_minor": 0
}
