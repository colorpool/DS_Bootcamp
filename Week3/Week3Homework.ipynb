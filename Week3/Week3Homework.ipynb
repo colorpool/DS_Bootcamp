{
 "cells": [
  {
   "cell_type": "markdown",
   "source": [
    "Numpy Practice Questions"
   ],
   "metadata": {
    "collapsed": false,
    "ExecuteTime": {
     "end_time": "2023-10-20T22:39:51.316736200Z",
     "start_time": "2023-10-20T22:39:51.294424400Z"
    }
   },
   "outputs": [],
   "execution_count": 9
  },
  {
   "cell_type": "code",
   "execution_count": 2,
   "outputs": [],
   "source": [
    "import numpy as np"
   ],
   "metadata": {
    "collapsed": false,
    "ExecuteTime": {
     "end_time": "2023-10-20T22:48:31.271987900Z",
     "start_time": "2023-10-20T22:48:31.161149600Z"
    }
   }
  },
  {
   "cell_type": "code",
   "execution_count": 3,
   "outputs": [
    {
     "name": "stdout",
     "output_type": "stream",
     "text": [
      "Vertical Stack:\n",
      "[[1 2]\n",
      " [3 4]\n",
      " [5 6]\n",
      " [7 8]]\n",
      "\n",
      "Horizontal Stack:\n",
      "[[1 2 5 6]\n",
      " [3 4 7 8]]\n"
     ]
    }
   ],
   "source": [
    "# 1. Define two custom numpy arrays, say A and B. Generate two new numpy arrays by stacking A and B vertically and horizontally.\n",
    "# Define two custom numpy arrays\n",
    "A = np.array([[1, 2], [3, 4]])\n",
    "B = np.array([[5, 6], [7, 8]])\n",
    "\n",
    "# Stack A and B vertically\n",
    "vertical_stack = np.vstack((A, B))\n",
    "\n",
    "# Stack A and B horizontally\n",
    "horizontal_stack = np.hstack((A, B))\n",
    "\n",
    "# Print the results\n",
    "print(\"Vertical Stack:\")\n",
    "print(vertical_stack)\n",
    "\n",
    "print(\"\\nHorizontal Stack:\")\n",
    "print(horizontal_stack)"
   ],
   "metadata": {
    "collapsed": false,
    "ExecuteTime": {
     "end_time": "2023-10-20T22:48:32.313361100Z",
     "start_time": "2023-10-20T22:48:32.291226100Z"
    }
   }
  },
  {
   "cell_type": "code",
   "execution_count": 4,
   "outputs": [
    {
     "name": "stdout",
     "output_type": "stream",
     "text": [
      "Common elements between A and B:\n",
      "[3 4]\n"
     ]
    }
   ],
   "source": [
    "# 2. Find common elements between A and B. [Hint : Intersection of two sets]\n",
    "# Define two custom numpy arrays\n",
    "A = np.array([1, 2, 3, 4])\n",
    "B = np.array([3, 4, 5, 6])\n",
    "\n",
    "# Find the common elements between A and B\n",
    "common_elements = np.intersect1d(A, B)\n",
    "\n",
    "# Print the common elements\n",
    "print(\"Common elements between A and B:\")\n",
    "print(common_elements)"
   ],
   "metadata": {
    "collapsed": false,
    "ExecuteTime": {
     "end_time": "2023-10-20T22:48:47.555253400Z",
     "start_time": "2023-10-20T22:48:47.534615600Z"
    }
   }
  },
  {
   "cell_type": "code",
   "execution_count": 6,
   "outputs": [
    {
     "name": "stdout",
     "output_type": "stream",
     "text": [
      "Numbers between 5 and 10 in array A:\n",
      "[ 6  8 10]\n"
     ]
    }
   ],
   "source": [
    "# 3. Extract all numbers from A which are within a specific range. eg between 5 and 10. [Hint: np.where() might be useful or boolean masks]\n",
    "# Define a custom numpy array\n",
    "A = np.array([1, 2, 3, 4, 6, 8, 10, 12])\n",
    "\n",
    "# Find indices where the condition is True\n",
    "indices = np.where((A >= 5) & (A <= 10))\n",
    "\n",
    "# Extract numbers using the indices\n",
    "extracted_numbers = A[indices]\n",
    "\n",
    "# Print the extracted numbers\n",
    "print(\"Numbers between 5 and 10 in array A:\")\n",
    "print(extracted_numbers)"
   ],
   "metadata": {
    "collapsed": false,
    "ExecuteTime": {
     "end_time": "2023-10-21T00:22:54.273722Z",
     "start_time": "2023-10-21T00:22:54.248143300Z"
    }
   }
  },
  {
   "cell_type": "code",
   "execution_count": 8,
   "outputs": [
    {
     "name": "stdout",
     "output_type": "stream",
     "text": [
      "Filtered rows:\n",
      "[[4.8 3.4 1.6 0.2]\n",
      " [4.8 3.4 1.9 0.2]\n",
      " [4.7 3.2 1.6 0.2]\n",
      " [4.8 3.1 1.6 0.2]\n",
      " [4.9 2.4 3.3 1. ]\n",
      " [4.9 2.5 4.5 1.7]]\n"
     ]
    }
   ],
   "source": [
    "# 4. Filter the rows of iris_2d that has petallength (3rd column) > 1.5 and sepallength (1st column) < 5.0\n",
    "# Fetching the iris_2d data\n",
    "url = 'https://archive.ics.uci.edu/ml/machine-learning-databases/iris/iris.data'\n",
    "iris_2d = np.genfromtxt(url, delimiter=',', dtype='float', usecols=[0,1,2,3])\n",
    "\n",
    "# Filtering the rows based on the conditions\n",
    "filtered_rows = iris_2d[(iris_2d[:, 2] > 1.5) & (iris_2d[:, 0] < 5.0)]\n",
    "\n",
    "# Print the filtered rows\n",
    "print(\"Filtered rows:\")\n",
    "print(filtered_rows)"
   ],
   "metadata": {
    "collapsed": false,
    "ExecuteTime": {
     "end_time": "2023-10-21T00:23:21.139223800Z",
     "start_time": "2023-10-21T00:23:21.112016900Z"
    }
   }
  },
  {
   "cell_type": "markdown",
   "source": [
    "Practice Questions for Pandas"
   ],
   "metadata": {
    "collapsed": false
   }
  },
  {
   "cell_type": "code",
   "execution_count": 10,
   "outputs": [],
   "source": [
    "import pandas as pd"
   ],
   "metadata": {
    "collapsed": false,
    "ExecuteTime": {
     "end_time": "2023-10-21T00:25:01.633062600Z",
     "start_time": "2023-10-21T00:25:00.404787200Z"
    }
   }
  },
  {
   "cell_type": "code",
   "execution_count": 11,
   "outputs": [
    {
     "name": "stdout",
     "output_type": "stream",
     "text": [
      "   Manufacturer    Model     Type\n",
      "0         Acura  Integra    Small\n",
      "20     Chrysler  LeBaron  Compact\n",
      "40        Honda  Prelude   Sporty\n",
      "60      Mercury   Cougar  Midsize\n",
      "80       Subaru   Loyale    Small\n"
     ]
    }
   ],
   "source": [
    "# 1. From df filter the 'Manufacturer', 'Model' and 'Type' for every 20th row starting from 1st (row 0).\n",
    "df1 = pd.read_csv('https://raw.githubusercontent.com/selva86/datasets/master/Cars93_miss.csv')\n",
    "# Filter the specified columns for every 20th row\n",
    "filtered_df = df1.iloc[::20][['Manufacturer', 'Model', 'Type']]\n",
    "\n",
    "print(filtered_df)"
   ],
   "metadata": {
    "collapsed": false,
    "ExecuteTime": {
     "end_time": "2023-10-21T00:25:01.933719100Z",
     "start_time": "2023-10-21T00:25:01.636420500Z"
    }
   }
  },
  {
   "cell_type": "code",
   "execution_count": 12,
   "outputs": [
    {
     "name": "stdout",
     "output_type": "stream",
     "text": [
      "   Min.Price  Max.Price\n",
      "0  12.900000  18.800000\n",
      "1  29.200000  38.700000\n",
      "2  25.900000  32.300000\n",
      "3  17.118605  44.600000\n",
      "4  17.118605  21.459091\n"
     ]
    }
   ],
   "source": [
    "# 2. Replace missing values in Min.Price and Max.Price columns with their respective mean.\n",
    "df2 = pd.read_csv('https://raw.githubusercontent.com/selva86/datasets/master/Cars93_miss.csv')\n",
    "\n",
    "# Replace missing values with the mean of the respective column\n",
    "df2['Min.Price'].fillna(df2['Min.Price'].mean(), inplace=True)\n",
    "df2['Max.Price'].fillna(df2['Max.Price'].mean(), inplace=True)\n",
    "\n",
    "print(df2[['Min.Price', 'Max.Price']].head())"
   ],
   "metadata": {
    "collapsed": false,
    "ExecuteTime": {
     "end_time": "2023-10-21T00:25:41.650096800Z",
     "start_time": "2023-10-21T00:25:41.511220600Z"
    }
   }
  },
  {
   "cell_type": "code",
   "execution_count": 13,
   "outputs": [
    {
     "name": "stdout",
     "output_type": "stream",
     "text": [
      "     0   1   2   3\n",
      "0   31  17  28  26\n",
      "5   26  25  35  38\n",
      "8   33  11  38  38\n",
      "11  19  37  26  29\n",
      "14  33  38  24  12\n"
     ]
    }
   ],
   "source": [
    "# 3. How to get the rows of a dataframe with row sum > 100?\n",
    "df3 = pd.DataFrame(np.random.randint(10, 40, 60).reshape(-1, 4))\n",
    "\n",
    "# Filter rows where row sum is greater than 100\n",
    "result = df3[df3.sum(axis=1) > 100]\n",
    "\n",
    "print(result)"
   ],
   "metadata": {
    "collapsed": false,
    "ExecuteTime": {
     "end_time": "2023-10-21T00:26:31.315127400Z",
     "start_time": "2023-10-21T00:26:31.285055700Z"
    }
   }
  },
  {
   "cell_type": "code",
   "execution_count": null,
   "outputs": [],
   "source": [],
   "metadata": {
    "collapsed": false
   }
  }
 ],
 "metadata": {
  "kernelspec": {
   "display_name": "Python 3",
   "language": "python",
   "name": "python3"
  },
  "language_info": {
   "codemirror_mode": {
    "name": "ipython",
    "version": 2
   },
   "file_extension": ".py",
   "mimetype": "text/x-python",
   "name": "python",
   "nbconvert_exporter": "python",
   "pygments_lexer": "ipython2",
   "version": "2.7.6"
  }
 },
 "nbformat": 4,
 "nbformat_minor": 0
}
