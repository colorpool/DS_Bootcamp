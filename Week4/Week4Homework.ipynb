{
 "cells": [
  {
   "cell_type": "code",
   "execution_count": null,
   "metadata": {
    "collapsed": true
   },
   "outputs": [],
   "source": [
    "'''\n",
    "1. Create a line plot of ZN and INDUS in the housing data.\n",
    "\n",
    "\ta. For ZN, use a solid green line. For INDUS, use a blue dashed line.\n",
    "\tb. Change the figure size to a width of 12 and height of 8.\n",
    "\tc. Change the style sheet to something you find https://tonysyu.github.io/raw_content/matplotlib-style-gallery/gallery.html.\n",
    "\n",
    "2. Create a bar chart using col1 and col2 of dummy data.\n",
    "\n",
    "\ta. Give the plot a large title of your choosing.\n",
    "\tb. Move the legend to the lower-left corner.\n",
    "\tc. Do the same thing but with horizontal bars.\n",
    "\td. Move the legend to the upper-right corner.\n",
    "\n",
    "3. Create a histogram with pandas for using MEDV in the housing data.\n",
    "\n",
    "\ta. Set the bins to 20\n",
    "\n",
    "4. Create a scatter plot of two heatmap entries that appear to have a very positive correlation.\n",
    "\n",
    "5. Now, create a scatter plot of two heatmap entries that appear to have negative correlation.\n",
    "'''"
   ]
  }
 ],
 "metadata": {
  "kernelspec": {
   "display_name": "Python 3",
   "language": "python",
   "name": "python3"
  },
  "language_info": {
   "codemirror_mode": {
    "name": "ipython",
    "version": 2
   },
   "file_extension": ".py",
   "mimetype": "text/x-python",
   "name": "python",
   "nbconvert_exporter": "python",
   "pygments_lexer": "ipython2",
   "version": "2.7.6"
  }
 },
 "nbformat": 4,
 "nbformat_minor": 0
}
