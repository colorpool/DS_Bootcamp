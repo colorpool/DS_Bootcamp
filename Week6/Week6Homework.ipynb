{
 "cells": [
  {
   "cell_type": "markdown",
   "source": [
    "Linear Regression\n",
    "1. Preprocess Test data and get predictions\n",
    "2. Compute Mean Abolute Error, Mean Square error for test data\n",
    "3. Implement Ridge and Lasso Regression and then compute the following metrics on test data\n",
    "\n",
    "Trees\n",
    "Compute errors on test sets\n",
    "Play with different parameter of decision trees and random forests and see the impact on train and test error\n",
    "[OPTIONAL] implement cross validation and get best hyperparameters"
   ],
   "metadata": {
    "collapsed": false
   }
  },
  {
   "cell_type": "code",
   "execution_count": null,
   "outputs": [],
   "source": [],
   "metadata": {
    "collapsed": false
   }
  }
 ],
 "metadata": {
  "kernelspec": {
   "display_name": "Python 3",
   "language": "python",
   "name": "python3"
  },
  "language_info": {
   "codemirror_mode": {
    "name": "ipython",
    "version": 2
   },
   "file_extension": ".py",
   "mimetype": "text/x-python",
   "name": "python",
   "nbconvert_exporter": "python",
   "pygments_lexer": "ipython2",
   "version": "2.7.6"
  }
 },
 "nbformat": 4,
 "nbformat_minor": 0
}
